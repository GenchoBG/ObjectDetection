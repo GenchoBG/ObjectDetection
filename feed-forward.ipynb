{
 "cells": [
  {
   "cell_type": "code",
   "execution_count": 1,
   "metadata": {},
   "outputs": [],
   "source": [
    "from yolo import YOLO\n",
    "from utils import get_annotations_images, LabelEncoder, read_labels\n",
    "from config import Config\n",
    "from networkfactory import NetworkFactory\n",
    "from tensorflow.keras.optimizers import Adam"
   ]
  },
  {
   "cell_type": "code",
   "execution_count": 2,
   "metadata": {},
   "outputs": [],
   "source": [
    "annotation_folder = r'.\\annotations'\n",
    "images_folder = r'.\\images'\n",
    "\n",
    "annotations, images = get_annotations_images(annotation_folder, images_folder)\n",
    "images = images[0:50]"
   ]
  },
  {
   "cell_type": "code",
   "execution_count": null,
   "metadata": {},
   "outputs": [
    {
     "name": "stderr",
     "output_type": "stream",
     "text": [
      "C:\\Users\\Gencho\\Anaconda3\\lib\\site-packages\\keras_applications\\mobilenet.py:207: UserWarning: `input_shape` is undefined or non-square, or `rows` is not in [128, 160, 192, 224]. Weights for input shape (224, 224) will be loaded as the default.\n",
      "  warnings.warn('`input_shape` is undefined or non-square, '\n",
      "WARNING: Logging before flag parsing goes to stderr.\n",
      "W0212 22:01:33.822301  1068 deprecation.py:506] From C:\\Users\\Gencho\\Anaconda3\\lib\\site-packages\\tensorflow\\python\\ops\\init_ops.py:1251: calling VarianceScaling.__init__ (from tensorflow.python.ops.init_ops) with dtype is deprecated and will be removed in a future version.\n",
      "Instructions for updating:\n",
      "Call initializer instance with the dtype argument instead of passing it to the constructor\n"
     ]
    }
   ],
   "source": [
    "labels_dir = \"./labels.txt\"\n",
    "cfg_path = r\"./cfg/mobilenetyolov2.cfg\"\n",
    "weights = r'./weights/mobilenetyolov2'\n",
    "\n",
    "cfg = Config(cfg_path)\n",
    "encoder = LabelEncoder(read_labels(labels_dir)[0])\n",
    "networkfactory = NetworkFactory()\n",
    "\n",
    "yolo = YOLO(cfg, encoder, networkfactory, weights)"
   ]
  },
  {
   "cell_type": "code",
   "execution_count": null,
   "metadata": {},
   "outputs": [],
   "source": [
    "for image in images:\n",
    "    objs = yolo.feed_forward(image, draw = False, save_image = True, supression=\"regular\", onlyconf = True)\n",
    "    #for obj in objs:\n",
    "    #    print(obj)"
   ]
  },
  {
   "cell_type": "code",
   "execution_count": null,
   "metadata": {},
   "outputs": [],
   "source": [
    "afk = r\"./mytestimages/marian.jpg\"\n",
    "objs = yolo.feed_forward(afk, draw = True, supression=\"regular\", save_image = True, save_json = True, onlyconf = True)"
   ]
  },
  {
   "cell_type": "code",
   "execution_count": null,
   "metadata": {},
   "outputs": [],
   "source": []
  }
 ],
 "metadata": {
  "kernelspec": {
   "display_name": "Python 3",
   "language": "python",
   "name": "python3"
  },
  "language_info": {
   "codemirror_mode": {
    "name": "ipython",
    "version": 3
   },
   "file_extension": ".py",
   "mimetype": "text/x-python",
   "name": "python",
   "nbconvert_exporter": "python",
   "pygments_lexer": "ipython3",
   "version": "3.7.3"
  }
 },
 "nbformat": 4,
 "nbformat_minor": 2
}
