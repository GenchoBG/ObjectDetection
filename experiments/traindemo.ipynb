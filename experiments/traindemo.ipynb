{
 "cells": [
  {
   "cell_type": "code",
   "execution_count": 1,
   "metadata": {},
   "outputs": [],
   "source": [
    "from yolo import YOLO\n",
    "from utils import get_annotations_images, LabelEncoder, read_labels\n",
    "from config import Config\n",
    "from networkfactory import NetworkFactory\n",
    "from batchgenerators import batch_generator\n",
    "from tensorflow.keras.optimizers import Adam"
   ]
  },
  {
   "cell_type": "code",
   "execution_count": 2,
   "metadata": {},
   "outputs": [],
   "source": [
    "annotation_folder = '.\\VOCdevkit\\VOC2007\\Annotations'\n",
    "images_folder = '.\\VOCdevkit\\VOC2007\\JPEGImages'\n",
    "\n",
    "annotations, images = get_annotations_images(annotation_folder, images_folder)"
   ]
  },
  {
   "cell_type": "code",
   "execution_count": 3,
   "metadata": {
    "scrolled": true
   },
   "outputs": [
    {
     "name": "stderr",
     "output_type": "stream",
     "text": [
      "C:\\Users\\Gencho\\Anaconda3\\lib\\site-packages\\keras_applications\\mobilenet.py:207: UserWarning: `input_shape` is undefined or non-square, or `rows` is not in [128, 160, 192, 224]. Weights for input shape (224, 224) will be loaded as the default.\n",
      "  warnings.warn('`input_shape` is undefined or non-square, '\n",
      "WARNING: Logging before flag parsing goes to stderr.\n",
      "W0101 16:59:05.177756 25844 deprecation.py:506] From C:\\Users\\Gencho\\Anaconda3\\lib\\site-packages\\tensorflow\\python\\ops\\init_ops.py:1251: calling VarianceScaling.__init__ (from tensorflow.python.ops.init_ops) with dtype is deprecated and will be removed in a future version.\n",
      "Instructions for updating:\n",
      "Call initializer instance with the dtype argument instead of passing it to the constructor\n",
      "W0101 16:59:47.975011 25844 deprecation.py:323] From C:\\Users\\Gencho\\Desktop\\ObjectDetection\\experiments\\yolo.py:115: to_float (from tensorflow.python.ops.math_ops) is deprecated and will be removed in a future version.\n",
      "Instructions for updating:\n",
      "Use `tf.cast` instead.\n",
      "W0101 16:59:48.043012 25844 deprecation.py:323] From C:\\Users\\Gencho\\Desktop\\ObjectDetection\\experiments\\yolo.py:171: add_dispatch_support.<locals>.wrapper (from tensorflow.python.ops.array_ops) is deprecated and will be removed in a future version.\n",
      "Instructions for updating:\n",
      "Use tf.where in 2.0, which has the same broadcast rule as np.where\n",
      "W0101 16:59:48.052012 25844 deprecation_wrapper.py:119] From C:\\Users\\Gencho\\Desktop\\ObjectDetection\\experiments\\yolo.py:177: The name tf.log is deprecated. Please use tf.math.log instead.\n",
      "\n"
     ]
    }
   ],
   "source": [
    "labels_dir = \"./labels.txt\"\n",
    "cfg_path = r\"C:\\Users\\Gencho\\Desktop\\ObjectDetection\\experiments\\mobilenetyolov2-voc.cfg\"\n",
    "weights = r'./weights/mobilenetyolov2try07abitofaugmentation'\n",
    "\n",
    "cfg = Config(cfg_path)\n",
    "encoder = LabelEncoder(read_labels(labels_dir)[0])\n",
    "networkfactory = NetworkFactory()\n",
    "\n",
    "optimizer = Adam(lr=0.5e-4, beta_1=0.9, beta_2=0.999, epsilon=1e-08, decay=0.0)\n",
    "\n",
    "yolo = YOLO(cfg, encoder, networkfactory, optimizer, weights)"
   ]
  },
  {
   "cell_type": "code",
   "execution_count": null,
   "metadata": {},
   "outputs": [
    {
     "name": "stdout",
     "output_type": "stream",
     "text": [
      "Epoch 1/10\n",
      "27/39 [===================>..........] - ETA: 22s - loss: 0.0486"
     ]
    }
   ],
   "source": [
    "epochs = 10\n",
    "\n",
    "yolo.train(batch_generator, annotations, images, epochs)"
   ]
  },
  {
   "cell_type": "code",
   "execution_count": null,
   "metadata": {},
   "outputs": [],
   "source": []
  }
 ],
 "metadata": {
  "kernelspec": {
   "display_name": "Python 3",
   "language": "python",
   "name": "python3"
  },
  "language_info": {
   "codemirror_mode": {
    "name": "ipython",
    "version": 3
   },
   "file_extension": ".py",
   "mimetype": "text/x-python",
   "name": "python",
   "nbconvert_exporter": "python",
   "pygments_lexer": "ipython3",
   "version": "3.7.3"
  }
 },
 "nbformat": 4,
 "nbformat_minor": 2
}
