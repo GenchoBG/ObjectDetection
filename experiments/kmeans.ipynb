{
 "cells": [
  {
   "cell_type": "code",
   "execution_count": 3,
   "metadata": {},
   "outputs": [],
   "source": [
    "import matplotlib.pyplot as plt\n",
    "import numpy as np\n",
    "import time\n",
    "from config import Config\n",
    "from kmeans import distance, find_anchor_boxes, get_average_IoU, get_kmeans_values_from_annotations, format_anchors"
   ]
  },
  {
   "cell_type": "code",
   "execution_count": 4,
   "metadata": {},
   "outputs": [],
   "source": [
    "cfg_path = r\"C:\\Users\\Gencho\\Desktop\\ObjectDetection\\experiments\\mobilenetyolov2-voc.cfg\"\n",
    "config = Config(cfg_path)\n",
    "\n",
    "grid_width = config.get('grid_width')\n",
    "grid_height = config.get('grid_height')\n",
    "\n",
    "annotations_path = '.\\VOCdevkit\\VOC2007\\Annotations'"
   ]
  },
  {
   "cell_type": "code",
   "execution_count": 5,
   "metadata": {
    "scrolled": true
   },
   "outputs": [],
   "source": [
    "kmeans_values = get_kmeans_values_from_annotations(annotations_path, grid_width, grid_height)"
   ]
  },
  {
   "cell_type": "code",
   "execution_count": 7,
   "metadata": {},
   "outputs": [
    {
     "name": "stdout",
     "output_type": "stream",
     "text": [
      "Ran KMeans for 5 clusters in 17.76s\n",
      "Calculated average IoU in 0.68s\n",
      "Average IoU: 0.691346300703301\n",
      "[1.29, 2.14, 2.77, 4.77, 4.39, 9.02, 7.75, 5.29, 10.16, 10.48]\n"
     ]
    }
   ],
   "source": [
    "start = time.time()\n",
    "centers, clusters = find_anchor_boxes(kmeans_values, 5)\n",
    "end = time.time()\n",
    "print(f'Ran KMeans for 5 clusters in {(end - start):.2f}s')\n",
    "\n",
    "start = time.time()\n",
    "average_IoU = get_average_IoU(kmeans_values, centers)\n",
    "end = time.time()\n",
    "print(f'Calculated average IoU in {(end - start):.2f}s')\n",
    "\n",
    "print(f'Average IoU: {average_IoU}')\n",
    "print(format_anchors(centers))"
   ]
  },
  {
   "cell_type": "code",
   "execution_count": 8,
   "metadata": {},
   "outputs": [
    {
     "name": "stdout",
     "output_type": "stream",
     "text": [
      "For 1 clusters: Average IoU: 0.40704424692329755, ran KMeans in: 0.51s\n",
      "For 2 clusters: Average IoU: 0.567311707773962, ran KMeans in: 2.68s\n",
      "For 3 clusters: Average IoU: 0.6363471024861568, ran KMeans in: 8.06s\n",
      "For 4 clusters: Average IoU: 0.6592978147601373, ran KMeans in: 13.99s\n",
      "For 5 clusters: Average IoU: 0.6913514495402181, ran KMeans in: 21.58s\n",
      "For 6 clusters: Average IoU: 0.7083418977844872, ran KMeans in: 38.30s\n",
      "For 7 clusters: Average IoU: 0.7280821071925312, ran KMeans in: 70.68s\n",
      "For 8 clusters: Average IoU: 0.7405107122793483, ran KMeans in: 40.77s\n",
      "For 9 clusters: Average IoU: 0.7481211615246072, ran KMeans in: 55.98s\n",
      "For 10 clusters: Average IoU: 0.7620435978034876, ran KMeans in: 95.08s\n",
      "For 11 clusters: Average IoU: 0.7698218837287808, ran KMeans in: 81.86s\n",
      "For 12 clusters: Average IoU: 0.776725849030763, ran KMeans in: 78.22s\n",
      "For 13 clusters: Average IoU: 0.7849399524042504, ran KMeans in: 90.47s\n",
      "For 14 clusters: Average IoU: 0.7897901955429307, ran KMeans in: 67.53s\n",
      "For 15 clusters: Average IoU: 0.7967058884372127, ran KMeans in: 141.43s\n"
     ]
    },
    {
     "data": {
      "image/png": "[encoded data removed]",
      "text/plain": [
       "<Figure size 432x288 with 1 Axes>"
      ]
     },
     "metadata": {
      "needs_background": "light"
     },
     "output_type": "display_data"
    }
   ],
   "source": [
    "ks = []\n",
    "anchors = []\n",
    "IoUs = []\n",
    "for k in range(1, 16):   \n",
    "    start = time.time()\n",
    "    \n",
    "    ks.append(k)\n",
    "    \n",
    "    centers, clusters = find_anchor_boxes(kmeans_values, k)\n",
    "    anchors.append(centers)\n",
    "    average_IoU = get_average_IoU(kmeans_values, centers)\n",
    "    IoUs.append(average_IoU)\n",
    "    \n",
    "    end = time.time()\n",
    "    print(f'For {k} clusters: Average IoU: {average_IoU}, ran KMeans in: {(end - start):.2f}s')\n",
    "    \n",
    "plt.plot(ks, IoUs, marker='o')\n",
    "plt.xlabel('# of clusters')\n",
    "plt.ylabel('Average IoU')\n",
    "plt.show()"
   ]
  },
  {
   "cell_type": "code",
   "execution_count": 10,
   "metadata": {},
   "outputs": [
    {
     "name": "stdout",
     "output_type": "stream",
     "text": [
      "1\n",
      "[4.36, 5.66]\n",
      "\n",
      "2\n",
      "[1.98, 3.36, 7.48, 8.66]\n",
      "\n",
      "3\n",
      "[1.53, 2.6, 4.04, 6.49, 9.45, 9.53]\n",
      "\n",
      "4\n",
      "[1.48, 2.44, 3.15, 6.51, 7.27, 5.67, 9.3, 10.54]\n",
      "\n",
      "5\n",
      "[1.29, 2.14, 2.77, 4.77, 4.39, 9.02, 7.74, 5.29, 10.16, 10.48]\n",
      "\n",
      "6\n",
      "[1.25, 2.07, 2.14, 5.33, 4.49, 3.83, 4.57, 8.98, 9.03, 6.19, 10.2, 10.97]\n",
      "\n",
      "7\n",
      "[1.21, 1.8, 1.88, 4.15, 3.16, 7.72, 4.83, 4.02, 5.95, 9.8, 9.42, 6.19, 10.88, 11.01]\n",
      "\n",
      "8\n",
      "[1.13, 1.79, 1.7, 4.33, 3.08, 7.81, 3.78, 3.02, 5.45, 5.39, 6.09, 10.15, 9.96, 6.44, 11.0, 11.14]\n",
      "\n",
      "9\n",
      "[1.11, 1.76, 1.6, 4.34, 2.92, 7.87, 3.36, 3.01, 4.86, 5.68, 5.88, 10.16, 8.54, 4.17, 9.97, 7.49, 10.91, 11.47]\n",
      "\n",
      "10\n",
      "[1.1, 1.5, 1.3, 3.38, 2.21, 5.69, 3.37, 2.92, 3.44, 8.98, 4.95, 5.65, 6.48, 10.21, 8.58, 4.3, 10.27, 7.48, 11.13, 11.51]\n",
      "\n",
      "11\n",
      "[0.97, 1.65, 1.34, 4.24, 2.44, 2.47, 2.77, 5.69, 3.4, 9.23, 4.83, 3.64, 5.7, 6.79, 6.61, 10.84, 9.63, 4.78, 10.35, 8.1, 11.33, 11.69]\n",
      "\n",
      "12\n",
      "[1.01, 1.53, 1.24, 3.65, 2.06, 6.58, 2.62, 2.63, 3.59, 5.2, 3.81, 9.42, 5.63, 3.44, 6.1, 6.96, 6.94, 10.94, 9.9, 4.96, 10.56, 8.2, 11.43, 11.75]\n",
      "\n",
      "13\n",
      "[0.93, 1.54, 1.22, 3.76, 2.24, 7.78, 2.4, 2.15, 2.58, 4.38, 4.01, 6.08, 4.29, 10.02, 5.21, 3.46, 6.55, 7.12, 7.42, 11.01, 9.81, 4.73, 10.79, 8.08, 11.59, 11.73]\n",
      "\n",
      "14\n",
      "[1.02, 1.38, 1.06, 3.06, 1.8, 4.88, 2.44, 8.05, 2.64, 2.51, 3.7, 5.21, 3.98, 9.22, 5.62, 3.39, 5.79, 10.62, 6.37, 6.75, 8.26, 10.93, 10.07, 4.89, 10.81, 8.05, 11.81, 11.74]\n",
      "\n",
      "15\n",
      "[0.91, 1.4, 1.12, 3.21, 1.7, 5.57, 2.3, 2.01, 2.75, 8.47, 2.75, 3.99, 4.17, 5.89, 4.67, 10.14, 5.17, 3.23, 6.58, 7.19, 7.48, 11.13, 9.01, 4.31, 10.67, 9.14, 10.94, 6.52, 11.66, 12.05]\n",
      "\n"
     ]
    }
   ],
   "source": [
    "for i in range(len(anchors)):\n",
    "    print(ks[i])\n",
    "    print(format_anchors(anchors[i]))\n",
    "    print()"
   ]
  },
  {
   "cell_type": "code",
   "execution_count": null,
   "metadata": {},
   "outputs": [],
   "source": []
  }
 ],
 "metadata": {
  "kernelspec": {
   "display_name": "Python 3",
   "language": "python",
   "name": "python3"
  }
 },
 "nbformat": 4,
 "nbformat_minor": 1
}
