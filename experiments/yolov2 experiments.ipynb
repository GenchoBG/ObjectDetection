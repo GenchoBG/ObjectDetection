{
 "cells": [
  {
   "cell_type": "code",
   "execution_count": 1,
   "metadata": {},
   "outputs": [],
   "source": [
    "import tensorflow as tf\n",
    "from tensorflow.keras.models import Sequential\n",
    "from tensorflow.keras.layers import Reshape, Conv2D, Input, MaxPooling2D, BatchNormalization, Dense, LeakyReLU\n",
    "from tensorflow.keras.optimizers import Adam\n",
    "import numpy as np\n",
    "from utils import read_labels"
   ]
  },
  {
   "cell_type": "code",
   "execution_count": 2,
   "metadata": {},
   "outputs": [],
   "source": [
    "#TODO: read from config\n",
    "\n",
    "image_width = 416\n",
    "image_height = 416\n",
    "grid_width = 13\n",
    "grid_height = 13\n",
    "\n",
    "boxes = 5\n",
    "\n",
    "anchors = [[1.05, 1.65], [2.44, 4.13], [4.01, 8.46], [7.62, 5.13], [9.97, 10.43]]\n",
    "\n",
    "labels_dir = \"./labels.txt\""
   ]
  },
  {
   "cell_type": "code",
   "execution_count": 3,
   "metadata": {},
   "outputs": [
    {
     "name": "stdout",
     "output_type": "stream",
     "text": [
      "0\n",
      "['horse', 'diningtable', 'sofa', 'train', 'bird', 'aeroplane', 'person', 'boat', 'bottle', 'motorbike', 'bus', 'cat', 'pottedplant', 'car', 'dog', 'bicycle', 'sheep', 'cow', 'tvmonitor', 'chair']\n"
     ]
    }
   ],
   "source": [
    "labels, labels_count = read_labels(labels_dir)\n",
    "\n",
    "\n",
    "labels_count = 0 # TODO: remove when implementing classification\n",
    "\n",
    "print(labels_count)\n",
    "print(labels)"
   ]
  },
  {
   "cell_type": "code",
   "execution_count": 4,
   "metadata": {
    "scrolled": false
   },
   "outputs": [
    {
     "name": "stderr",
     "output_type": "stream",
     "text": [
      "WARNING: Logging before flag parsing goes to stderr.\n",
      "W1208 22:59:52.801518  9976 deprecation.py:506] From C:\\Users\\Gencho\\Anaconda3\\lib\\site-packages\\tensorflow\\python\\ops\\init_ops.py:1251: calling VarianceScaling.__init__ (from tensorflow.python.ops.init_ops) with dtype is deprecated and will be removed in a future version.\n",
      "Instructions for updating:\n",
      "Call initializer instance with the dtype argument instead of passing it to the constructor\n"
     ]
    },
    {
     "name": "stdout",
     "output_type": "stream",
     "text": [
      "Model: \"tiny yolov2 voc\"\n",
      "_________________________________________________________________\n",
      "Layer (type)                 Output Shape              Param #   \n",
      "=================================================================\n",
      "conv_1 (Conv2D)              (None, 416, 416, 16)      432       \n",
      "_________________________________________________________________\n",
      "norm_1 (BatchNormalization)  (None, 416, 416, 16)      64        \n",
      "_________________________________________________________________\n",
      "leaky_1 (LeakyReLU)          (None, 416, 416, 16)      0         \n",
      "_________________________________________________________________\n",
      "maxpool_1 (MaxPooling2D)     (None, 208, 208, 16)      0         \n",
      "_________________________________________________________________\n",
      "conv_2 (Conv2D)              (None, 208, 208, 32)      4608      \n",
      "_________________________________________________________________\n",
      "norm_2 (BatchNormalization)  (None, 208, 208, 32)      128       \n",
      "_________________________________________________________________\n",
      "leaky_2 (LeakyReLU)          (None, 208, 208, 32)      0         \n",
      "_________________________________________________________________\n",
      "maxpool_2 (MaxPooling2D)     (None, 104, 104, 32)      0         \n",
      "_________________________________________________________________\n",
      "conv_3 (Conv2D)              (None, 104, 104, 64)      18432     \n",
      "_________________________________________________________________\n",
      "norm_3 (BatchNormalization)  (None, 104, 104, 64)      256       \n",
      "_________________________________________________________________\n",
      "leaky_3 (LeakyReLU)          (None, 104, 104, 64)      0         \n",
      "_________________________________________________________________\n",
      "maxpool_3 (MaxPooling2D)     (None, 52, 52, 64)        0         \n",
      "_________________________________________________________________\n",
      "conv_4 (Conv2D)              (None, 52, 52, 128)       73728     \n",
      "_________________________________________________________________\n",
      "norm_4 (BatchNormalization)  (None, 52, 52, 128)       512       \n",
      "_________________________________________________________________\n",
      "leaky_4 (LeakyReLU)          (None, 52, 52, 128)       0         \n",
      "_________________________________________________________________\n",
      "maxpool_4 (MaxPooling2D)     (None, 26, 26, 128)       0         \n",
      "_________________________________________________________________\n",
      "conv_5 (Conv2D)              (None, 26, 26, 256)       294912    \n",
      "_________________________________________________________________\n",
      "norm_5 (BatchNormalization)  (None, 26, 26, 256)       1024      \n",
      "_________________________________________________________________\n",
      "leaky_5 (LeakyReLU)          (None, 26, 26, 256)       0         \n",
      "_________________________________________________________________\n",
      "maxpool_5 (MaxPooling2D)     (None, 13, 13, 256)       0         \n",
      "_________________________________________________________________\n",
      "conv_6 (Conv2D)              (None, 13, 13, 512)       1179648   \n",
      "_________________________________________________________________\n",
      "norm_6 (BatchNormalization)  (None, 13, 13, 512)       2048      \n",
      "_________________________________________________________________\n",
      "leaky_6 (LeakyReLU)          (None, 13, 13, 512)       0         \n",
      "_________________________________________________________________\n",
      "conv_7 (Conv2D)              (None, 13, 13, 1024)      4718592   \n",
      "_________________________________________________________________\n",
      "norm_7 (BatchNormalization)  (None, 13, 13, 1024)      4096      \n",
      "_________________________________________________________________\n",
      "leaky_7 (LeakyReLU)          (None, 13, 13, 1024)      0         \n",
      "_________________________________________________________________\n",
      "conv_8 (Conv2D)              (None, 13, 13, 1024)      9437184   \n",
      "_________________________________________________________________\n",
      "norm_8 (BatchNormalization)  (None, 13, 13, 1024)      4096      \n",
      "_________________________________________________________________\n",
      "leaky_8 (LeakyReLU)          (None, 13, 13, 1024)      0         \n",
      "_________________________________________________________________\n",
      "conv_9 (Conv2D)              (None, 13, 13, 125)       128125    \n",
      "_________________________________________________________________\n",
      "output (Reshape)             (None, 13, 13, 5, 5)      0         \n",
      "=================================================================\n",
      "Total params: 15,867,885\n",
      "Trainable params: 15,861,773\n",
      "Non-trainable params: 6,112\n",
      "_________________________________________________________________\n"
     ]
    }
   ],
   "source": [
    "layers = []\n",
    "\n",
    "layers.append(Input(shape=(image_width, image_height, 3)))\n",
    "\n",
    "layers.append(Conv2D(filters = 16, kernel_size = (3, 3), padding = \"same\", use_bias = False, name=\"conv_1\"))\n",
    "layers.append(BatchNormalization(name = \"norm_1\"))\n",
    "layers.append(LeakyReLU(name = \"leaky_1\"))\n",
    "layers.append(MaxPooling2D(name = \"maxpool_1\"))\n",
    "\n",
    "layers.append(Conv2D(filters = 32, kernel_size = (3, 3), padding = \"same\", use_bias = False, name=\"conv_2\"))\n",
    "layers.append(BatchNormalization(name = \"norm_2\"))\n",
    "layers.append(LeakyReLU(name = \"leaky_2\"))\n",
    "layers.append(MaxPooling2D(name = \"maxpool_2\"))\n",
    "\n",
    "layers.append(Conv2D(filters = 64, kernel_size = (3, 3), padding = \"same\", use_bias = False, name=\"conv_3\"))\n",
    "layers.append(BatchNormalization(name = \"norm_3\"))\n",
    "layers.append(LeakyReLU(name = \"leaky_3\"))\n",
    "layers.append(MaxPooling2D(name = \"maxpool_3\"))\n",
    "\n",
    "layers.append(Conv2D(filters = 128, kernel_size = (3, 3), padding = \"same\", use_bias = False, name=\"conv_4\"))\n",
    "layers.append(BatchNormalization(name = \"norm_4\"))\n",
    "layers.append(LeakyReLU(name = \"leaky_4\"))\n",
    "layers.append(MaxPooling2D(name = \"maxpool_4\"))\n",
    "\n",
    "layers.append(Conv2D(filters = 256, kernel_size = (3, 3), padding = \"same\", use_bias = False, name=\"conv_5\"))\n",
    "layers.append(BatchNormalization(name = \"norm_5\"))\n",
    "layers.append(LeakyReLU(name = \"leaky_5\"))\n",
    "layers.append(MaxPooling2D(name = \"maxpool_5\"))\n",
    "\n",
    "layers.append(Conv2D(filters = 512, kernel_size = (3, 3), padding = \"same\", use_bias = False, name=\"conv_6\"))\n",
    "layers.append(BatchNormalization(name = \"norm_6\"))\n",
    "layers.append(LeakyReLU(name = \"leaky_6\"))\n",
    "#layers.append(MaxPooling2D(name = \"maxpool_6\", pool_size = (2, 2), strides = (1, 1)))\n",
    "\n",
    "layers.append(Conv2D(filters = 1024, kernel_size = (3, 3), padding = \"same\", use_bias = False, name=\"conv_7\"))\n",
    "layers.append(BatchNormalization(name = \"norm_7\"))\n",
    "layers.append(LeakyReLU(name = \"leaky_7\"))\n",
    "\n",
    "layers.append(Conv2D(filters = 1024, kernel_size = (3, 3), padding = \"same\", use_bias = False, name=\"conv_8\"))\n",
    "layers.append(BatchNormalization(name = \"norm_8\"))\n",
    "layers.append(LeakyReLU(name = \"leaky_8\"))\n",
    "\n",
    "layers.append(Conv2D(filters = 125, kernel_size = (1, 1), padding = \"same\", name=\"conv_9\"))\n",
    "\n",
    "layers.append(Reshape(target_shape = (grid_width, grid_height, boxes, 5 + labels_count), name = \"output\"))\n",
    "\n",
    "model = Sequential(layers = layers, name = \"tiny yolov2 voc\")\n",
    "model.summary()"
   ]
  },
  {
   "cell_type": "code",
   "execution_count": null,
   "metadata": {},
   "outputs": [],
   "source": []
  }
 ],
 "metadata": {
  "kernelspec": {
   "display_name": "Python 3",
   "language": "python",
   "name": "python3"
  },
  "language_info": {
   "codemirror_mode": {
    "name": "ipython",
    "version": 3
   },
   "file_extension": ".py",
   "mimetype": "text/x-python",
   "name": "python",
   "nbconvert_exporter": "python",
   "pygments_lexer": "ipython3",
   "version": "3.7.3"
  }
 },
 "nbformat": 4,
 "nbformat_minor": 2
}
