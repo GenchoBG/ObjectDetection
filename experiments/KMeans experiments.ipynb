{
 "cells": [
  {
   "cell_type": "code",
   "execution_count": 1,
   "metadata": {},
   "outputs": [],
   "source": [
    "from utils import parse_annotation, calculate_IoU, Object, Annotation\n",
    "import collections\n",
    "import os\n",
    "import matplotlib.pyplot as plt\n",
    "import numpy as np\n",
    "from pyclustering.cluster.kmeans import kmeans as KMeans\n",
    "from pyclustering.utils.metric import type_metric, distance_metric\n",
    "from pyclustering.cluster.center_initializer import kmeans_plusplus_initializer, random_center_initializer\n",
    "import time"
   ]
  },
  {
   "cell_type": "code",
   "execution_count": 2,
   "metadata": {
    "scrolled": true
   },
   "outputs": [],
   "source": [
    "path = '.\\VOCdevkit\\VOC2007\\Annotations'\n",
    "\n",
    "files = []\n",
    "# r=root, d=directories, f = files\n",
    "for r, d, f in os.walk(path):\n",
    "    for file in f:\n",
    "        if '.xml' in file:\n",
    "            files.append(os.path.join(r, file))\n",
    "            \n",
    "#files = files[:500]\n",
    "\n",
    "annotations = [parse_annotation(file) for file in files]"
   ]
  },
  {
   "cell_type": "code",
   "execution_count": 3,
   "metadata": {},
   "outputs": [],
   "source": [
    "def average_IoU(true, centers):\n",
    "    IoU = 0.0\n",
    "    \n",
    "    for i in range(len(true)):\n",
    "        \n",
    "        \n",
    "        IoU += calculate_IoU(true[i], pred[i])\n",
    "        \n",
    "    return IoU / len(true)    "
   ]
  },
  {
   "cell_type": "code",
   "execution_count": 4,
   "metadata": {},
   "outputs": [],
   "source": [
    "def distance(boxcoords, centroid):\n",
    "    if boxcoords.ndim > 1:        \n",
    "        result = []\n",
    "        \n",
    "        for i in range(len(boxcoords)):\n",
    "            result.append(distance(boxcoords[i], centroid[i]))\n",
    "            \n",
    "        return result\n",
    "    \n",
    "    box = Object(xmin = 0, xmax = boxcoords[0], ymin = 0, ymax = boxcoords[1])    \n",
    "    \n",
    "    centroid_box = Object(xmin = 0, xmax = centroid[0], ymin = 0, ymax = centroid[1])    \n",
    "    \n",
    "    return 1 - calculate_IoU(box, centroid_box)\n",
    "\n",
    "        \n",
    "def find_anchor_boxes(kmeans_values, n_boxes):    \n",
    "    initial_centers = kmeans_plusplus_initializer(kmeans_values, n_boxes).initialize()\n",
    "\n",
    "    metric = distance_metric(type_metric.USER_DEFINED, func=distance)\n",
    "    \n",
    "    kmeans = KMeans(n_clusters = n_boxes, data = kmeans_values, initial_centers = initial_centers, metric = metric)\n",
    "    \n",
    "    kmeans.process()\n",
    "    \n",
    "    centers = kmeans.get_centers()\n",
    "    clusters = kmeans.get_clusters()\n",
    "    \n",
    "    return centers, clusters\n",
    "    \n",
    "kmeans_values = []\n",
    "for annotation in annotations:\n",
    "    for obj in annotation.objects:\n",
    "        width = obj.xmax - obj.xmin\n",
    "        height = obj.ymax - obj.ymin\n",
    "\n",
    "        kmeans_values.append(np.array([width, height]))\n",
    "    \n",
    "#centers, clusters = find_anchor_boxes(kmeans_values, 5)"
   ]
  },
  {
   "cell_type": "code",
   "execution_count": 5,
   "metadata": {},
   "outputs": [],
   "source": [
    "def get_average_IoU(kmeans_values, centers):\n",
    "    max_IoUs = []\n",
    "    \n",
    "    for obj in kmeans_values:\n",
    "        IoUs = []\n",
    "        for center in centers:\n",
    "            current_IoU = 1 - distance(obj, center)\n",
    "            IoUs.append(current_IoU)\n",
    "\n",
    "        max_IoU = max(IoUs)\n",
    "        max_IoUs.append(max_IoU)\n",
    "\n",
    "    average_IoU = sum(max_IoUs) / len(max_IoUs)\n",
    "    \n",
    "    return average_IoU"
   ]
  },
  {
   "cell_type": "code",
   "execution_count": 7,
   "metadata": {},
   "outputs": [
    {
     "name": "stdout",
     "output_type": "stream",
     "text": [
      "Ran KMeans in 32.28s\n",
      "Calculated average IoU in 1.03s\n",
      "0.5867718187117289\n"
     ]
    }
   ],
   "source": [
    "start = time.time()\n",
    "centers, clusters = find_anchor_boxes(kmeans_values, 5)\n",
    "end = time.time()\n",
    "print(f'Ran KMeans in {(end - start):.2f}s')\n",
    "\n",
    "start = time.time()\n",
    "average_IoU = get_average_IoU(kmeans_values, centers)\n",
    "end = time.time()\n",
    "print(f'Calculated average IoU in {(end - start):.2f}s')\n",
    "\n",
    "print(average_IoU)"
   ]
  },
  {
   "cell_type": "code",
   "execution_count": 8,
   "metadata": {},
   "outputs": [
    {
     "name": "stdout",
     "output_type": "stream",
     "text": [
      "For 1 clusters: Average IoU: 0.3091856559880461, ran KMeans in: 0.80s\n",
      "For 2 clusters: Average IoU: 0.4557420031732002, ran KMeans in: 5.11s\n",
      "For 3 clusters: Average IoU: 0.5281714917623662, ran KMeans in: 11.77s\n",
      "For 4 clusters: Average IoU: 0.554402191678774, ran KMeans in: 25.25s\n",
      "For 5 clusters: Average IoU: 0.586824130612268, ran KMeans in: 37.31s\n",
      "For 6 clusters: Average IoU: 0.6085893821413042, ran KMeans in: 34.12s\n",
      "For 7 clusters: Average IoU: 0.6278803673681637, ran KMeans in: 90.84s\n",
      "For 8 clusters: Average IoU: 0.6394608803056571, ran KMeans in: 72.69s\n",
      "For 9 clusters: Average IoU: 0.6539855603732873, ran KMeans in: 134.48s\n",
      "For 10 clusters: Average IoU: 0.6698109687555935, ran KMeans in: 111.54s\n",
      "For 11 clusters: Average IoU: 0.6765487593766614, ran KMeans in: 88.69s\n",
      "For 12 clusters: Average IoU: 0.6848521314044935, ran KMeans in: 154.15s\n",
      "For 13 clusters: Average IoU: 0.6946661160212083, ran KMeans in: 113.31s\n",
      "For 14 clusters: Average IoU: 0.7002390121853992, ran KMeans in: 126.67s\n"
     ]
    },
    {
     "data": {
      "image/png": "[encoded data removed]",
      "text/plain": [
       "<Figure size 432x288 with 1 Axes>"
      ]
     },
     "metadata": {
      "needs_background": "light"
     },
     "output_type": "display_data"
    }
   ],
   "source": [
    "ks = []\n",
    "anchors = []\n",
    "IoUs = []\n",
    "for k in range(1, 15):   \n",
    "    start = time.time()\n",
    "    \n",
    "    ks.append(k)\n",
    "    \n",
    "    centers, clusters = find_anchor_boxes(kmeans_values, k)\n",
    "    anchors.append(centers)\n",
    "    average_IoU = get_average_IoU(kmeans_values, centers)\n",
    "    IoUs.append(average_IoU)\n",
    "    \n",
    "    end = time.time()\n",
    "    print(f'For {k} clusters: Average IoU: {average_IoU}, ran KMeans in: {(end - start):.2f}s')\n",
    "    \n",
    "plt.plot(ks, IoUs, marker='o')\n",
    "plt.xlabel('# of clusters')\n",
    "plt.ylabel('Average IoU')\n",
    "plt.show()"
   ]
  },
  {
   "cell_type": "code",
   "execution_count": 9,
   "metadata": {},
   "outputs": [
    {
     "name": "stdout",
     "output_type": "stream",
     "text": [
      "[[141.51589835270082, 147.8135614864002]]\n",
      "[[250.6336677485984, 241.50191796990262], [58.265083295812694, 76.33453399369654]]\n",
      "[[43.76334710111672, 58.45387792565397], [130.80348535409715, 164.52743789395626], [328.2731171267757, 280.2149557759314]]\n",
      "[[41.00169376693767, 53.47086720867209], [342.5464238116393, 331.91514882274544], [104.9024852569503, 150.35888795282224], [255.59949256977166, 195.1138093512142]]\n",
      "[[36.47133254250692, 48.33175168050613], [359.5754263226935, 317.0017490161784], [285.4659383033419, 146.18508997429305], [151.50463522773074, 248.49979846835953], [91.01238317757009, 117.20070093457944]]\n",
      "[[82.29321221296998, 99.10547564976028], [397.62733260153675, 300.64983534577385], [214.75316455696202, 303.073417721519], [116.32538994800693, 208.93587521663778], [263.3303514376997, 137.20255591054314], [32.982820976491865, 44.91749547920434]]\n",
      "[[32.413258826517655, 39.935483870967744], [107.53224254090472, 207.8310875842156], [395.23641304347825, 330.4205163043478], [341.35036496350364, 173.48986212489862], [166.82151300236407, 109.69621749408984], [65.14775280898877, 96.79747191011236], [206.21183431952662, 293.1715976331361]]\n",
      "[[332.3010033444816, 167.78177257525084], [31.094206821873307, 38.561180292366], [172.8199875853507, 257.43947858472995], [429.8047914818101, 306.7036379769299], [62.48611517100263, 89.9967845659164], [270.6050096339114, 348.0009633911368], [94.43916449086161, 192.0167101827676], [160.1331325301205, 105.26385542168674]]\n",
      "[[141.8025693035835, 87.46788370520622], [248.74185861795075, 321.30182684670376], [30.35414808206958, 35.825156110615524], [417.30375114364136, 334.01189387008236], [54.46298157453936, 83.57587939698493], [136.44096209912536, 260.6180758017493], [83.0892094017094, 164.20833333333334], [205.45, 162.1296875], [382.740354535975, 181.07507820646507]]\n",
      "[[301.1319857312723, 362.33769322235435], [28.040849147635896, 35.041492441299454], [440.41571871768355, 299.5801447776629], [87.8814352574103, 137.38845553822154], [87.30386052303861, 57.73848069738481], [204.52272727272728, 281.69122257053294], [119.42158859470469, 238.48404616429056], [350.79489695780177, 171.6928361138371], [43.14126753749395, 97.60280599903241], [186.38015930485156, 121.17378711078928]]\n",
      "[[27.608270921523932, 35.09280364702052], [389.48568507157466, 236.1564417177914], [124.88404726735598, 252.36336779911375], [81.27278177458034, 57.37350119904077], [230.909604519774, 333.30414312617705], [156.6850220264317, 107.10279001468429], [359.71372549019605, 128.15686274509804], [212.8498609823911, 190.70435588507877], [83.32784090909091, 150.57670454545453], [42.86497461928934, 98.66852791878172], [404.7323113207547, 363.8691037735849]]\n",
      "[[25.989895470383274, 34.798954703832756], [441.4503582395087, 297.3879222108495], [41.884845192829985, 100.86094513851168], [171.35455974842768, 176.66666666666666], [73.10628571428572, 53.232571428571426], [184.8952590959206, 312.61742006615214], [290.78241758241757, 236.24945054945056], [167.58765915768853, 91.68952007835455], [367.2307692307692, 141.9905808477237], [86.22077215878194, 132.59271343121262], [102.34748272458046, 245.11549851924974], [300.7072, 394.1424]]\n",
      "[[224.32576505429418, 213.84797630799605], [25.369715603382012, 32.38124519600307], [147.67026378896884, 305.5275779376499], [120.44338235294117, 193.55220588235295], [186.70374115267947, 110.0778564206269], [396.99270959902793, 236.1287970838396], [76.34551724137931, 48.73586206896552], [432.2147058823529, 349.7985294117647], [39.40404564315353, 85.32935684647303], [268.7843359818388, 358.7162315550511], [363.8404452690167, 136.71243042671614], [62.87755102040816, 165.37755102040816], [96.67609427609428, 102.28350168350168]]\n",
      "[[66.21610420367081, 49.48194197750148], [293.35535714285714, 112.49642857142857], [291.615221987315, 419.0570824524313], [405.26201550387594, 194.0201550387597], [96.39417693169094, 239.0582306830907], [143.43386689132265, 160.91238416175233], [285.8209718670077, 282.8056265984655], [73.84239462431276, 132.01160659743434], [166.74408117249155, 303.40811724915443], [131.03815439219167, 83.74001774622893], [442.83141762452107, 318.544061302682], [224.61184210526315, 195.19736842105263], [38.27439384979302, 93.71082199881727], [24.529827315541603, 32.83124018838305]]\n"
     ]
    }
   ],
   "source": [
    "for anchor in anchors:\n",
    "    print(anchor)"
   ]
  },
  {
   "cell_type": "code",
   "execution_count": null,
   "metadata": {},
   "outputs": [],
   "source": [
    "'''\n",
    "anchors = [[0.57273, 0.677385], [1.87446, 2.06253], [3.33843, 5.47434], [7.88282, 3.52778], [9.77052, 9.16828]]\n",
    "anchors = [np.array(arr) for arr in anchors]    \n",
    "    \n",
    "print(anchors)\n",
    "print(get_average_IoU(annotations, anchors))\n",
    "'''"
   ]
  },
  {
   "cell_type": "code",
   "execution_count": null,
   "metadata": {},
   "outputs": [],
   "source": []
  },
  {
   "cell_type": "code",
   "execution_count": null,
   "metadata": {},
   "outputs": [],
   "source": []
  }
 ],
 "metadata": {
  "kernelspec": {
   "display_name": "Python 3",
   "language": "python",
   "name": "python3"
  },
  "language_info": {
   "codemirror_mode": {
    "name": "ipython",
    "version": 3
   },
   "file_extension": ".py",
   "mimetype": "text/x-python",
   "name": "python",
   "nbconvert_exporter": "python",
   "pygments_lexer": "ipython3",
   "version": "3.7.3"
  }
 },
 "nbformat": 4,
 "nbformat_minor": 2
}
