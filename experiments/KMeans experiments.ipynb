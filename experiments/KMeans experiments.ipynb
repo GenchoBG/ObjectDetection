{
 "cells": [
  {
   "cell_type": "code",
   "execution_count": 1,
   "metadata": {},
   "outputs": [],
   "source": [
    "from utils import parse_annotation, calculate_IoU, Object, Annotation\n",
    "import collections\n",
    "import os\n",
    "import matplotlib.pyplot as plt\n",
    "import numpy as np\n",
    "from pyclustering.cluster.kmeans import kmeans as KMeans\n",
    "from pyclustering.utils.metric import type_metric, distance_metric\n",
    "from pyclustering.cluster.center_initializer import kmeans_plusplus_initializer, random_center_initializer\n",
    "import time"
   ]
  },
  {
   "cell_type": "code",
   "execution_count": 2,
   "metadata": {},
   "outputs": [],
   "source": [
    "#TODO: read from a config\n",
    "input_width = 416\n",
    "input_height = 416\n",
    "\n",
    "grid_width = 13\n",
    "grid_height = 13"
   ]
  },
  {
   "cell_type": "code",
   "execution_count": 3,
   "metadata": {
    "scrolled": true
   },
   "outputs": [],
   "source": [
    "path = '.\\VOCdevkit\\VOC2007\\Annotations'\n",
    "\n",
    "files = []\n",
    "# r=root, d=directories, f = files\n",
    "for r, d, f in os.walk(path):\n",
    "    for file in f:\n",
    "        if '.xml' in file:\n",
    "            files.append(os.path.join(r, file))\n",
    "            \n",
    "#files = files[:500]\n",
    "\n",
    "annotations = [parse_annotation(file) for file in files]"
   ]
  },
  {
   "cell_type": "code",
   "execution_count": 4,
   "metadata": {},
   "outputs": [],
   "source": [
    "def distance(boxcoords, centroid):\n",
    "    if boxcoords.ndim > 1:        \n",
    "        result = []\n",
    "        \n",
    "        for i in range(len(boxcoords)):\n",
    "            result.append(distance(boxcoords[i], centroid[i]))\n",
    "            \n",
    "        return result\n",
    "    \n",
    "    box = Object(xmin = 0, xmax = boxcoords[0], ymin = 0, ymax = boxcoords[1])    \n",
    "    \n",
    "    centroid_box = Object(xmin = 0, xmax = centroid[0], ymin = 0, ymax = centroid[1])    \n",
    "    \n",
    "    return 1 - calculate_IoU(box, centroid_box)\n",
    "\n",
    "        \n",
    "def find_anchor_boxes(kmeans_values, n_boxes):    \n",
    "    initial_centers = kmeans_plusplus_initializer(kmeans_values, n_boxes).initialize()\n",
    "\n",
    "    metric = distance_metric(type_metric.USER_DEFINED, func=distance)\n",
    "    \n",
    "    kmeans = KMeans(n_clusters = n_boxes, data = kmeans_values, initial_centers = initial_centers, metric = metric)\n",
    "    \n",
    "    kmeans.process()\n",
    "    \n",
    "    centers = kmeans.get_centers()\n",
    "    clusters = kmeans.get_clusters()\n",
    "    \n",
    "    centers.sort(key = lambda c: c[0])\n",
    "    \n",
    "    return centers, clusters\n",
    "    \n",
    "kmeans_values = []\n",
    "for annotation in annotations:\n",
    "    cell_width = annotation.imagewidth / grid_width\n",
    "    cell_height = annotation.imageheight / grid_height\n",
    "    \n",
    "    for obj in annotation.objects:\n",
    "        width = (obj.xmax - obj.xmin) / cell_width\n",
    "        height = (obj.ymax - obj.ymin) / cell_height\n",
    "        \n",
    "\n",
    "        kmeans_values.append(np.array([width, height]))\n",
    "    \n",
    "#centers, clusters = find_anchor_boxes(kmeans_values, 5)"
   ]
  },
  {
   "cell_type": "code",
   "execution_count": 5,
   "metadata": {},
   "outputs": [],
   "source": [
    "def get_average_IoU(kmeans_values, centers):\n",
    "    max_IoUs = []\n",
    "    \n",
    "    for obj in kmeans_values:\n",
    "        IoUs = []\n",
    "        for center in centers:\n",
    "            current_IoU = 1 - distance(obj, center)\n",
    "            IoUs.append(current_IoU)\n",
    "\n",
    "        max_IoU = max(IoUs)\n",
    "        max_IoUs.append(max_IoU)\n",
    "\n",
    "    average_IoU = sum(max_IoUs) / len(max_IoUs)\n",
    "    \n",
    "    return average_IoU"
   ]
  },
  {
   "cell_type": "code",
   "execution_count": 6,
   "metadata": {},
   "outputs": [
    {
     "name": "stdout",
     "output_type": "stream",
     "text": [
      "Ran KMeans in 20.22s\n",
      "Calculated average IoU in 0.60s\n",
      "0.6797388011934754\n",
      "[[1.0561660983443226, 1.6511904188497952], [2.449072395202614, 4.138207169844389], [4.015072583065144, 8.458142650321642], [7.625899073003253, 5.13354454662471], [9.966163791780845, 10.43847889285282]]\n"
     ]
    }
   ],
   "source": [
    "start = time.time()\n",
    "centers, clusters = find_anchor_boxes(kmeans_values, 5)\n",
    "end = time.time()\n",
    "print(f'Ran KMeans in {(end - start):.2f}s')\n",
    "\n",
    "start = time.time()\n",
    "average_IoU = get_average_IoU(kmeans_values, centers)\n",
    "end = time.time()\n",
    "print(f'Calculated average IoU in {(end - start):.2f}s')\n",
    "\n",
    "print(average_IoU)\n",
    "print(centers)"
   ]
  },
  {
   "cell_type": "code",
   "execution_count": 7,
   "metadata": {},
   "outputs": [
    {
     "name": "stdout",
     "output_type": "stream",
     "text": [
      "For 1 clusters: Average IoU: 0.38092744980004206, ran KMeans in: 0.60s\n",
      "For 2 clusters: Average IoU: 0.5494862760887055, ran KMeans in: 3.56s\n",
      "For 3 clusters: Average IoU: 0.6218055697268634, ran KMeans in: 10.21s\n",
      "For 4 clusters: Average IoU: 0.655789942196804, ran KMeans in: 24.44s\n",
      "For 5 clusters: Average IoU: 0.6797308964404609, ran KMeans in: 18.76s\n",
      "For 6 clusters: Average IoU: 0.7002586680303172, ran KMeans in: 26.08s\n",
      "For 7 clusters: Average IoU: 0.7170832548468508, ran KMeans in: 74.82s\n",
      "For 8 clusters: Average IoU: 0.7307393925275367, ran KMeans in: 63.20s\n",
      "For 9 clusters: Average IoU: 0.7382479650403765, ran KMeans in: 51.37s\n",
      "For 10 clusters: Average IoU: 0.7481120937942609, ran KMeans in: 64.36s\n",
      "For 11 clusters: Average IoU: 0.7577966057951996, ran KMeans in: 64.04s\n",
      "For 12 clusters: Average IoU: 0.7678862418164123, ran KMeans in: 180.34s\n",
      "For 13 clusters: Average IoU: 0.7749085330699308, ran KMeans in: 98.77s\n",
      "For 14 clusters: Average IoU: 0.7819683557179097, ran KMeans in: 143.50s\n",
      "For 15 clusters: Average IoU: 0.7882251131042536, ran KMeans in: 211.19s\n"
     ]
    },
    {
     "data": {
      "image/png": "[encoded data removed]",
      "text/plain": [
       "<Figure size 432x288 with 1 Axes>"
      ]
     },
     "metadata": {
      "needs_background": "light"
     },
     "output_type": "display_data"
    }
   ],
   "source": [
    "ks = []\n",
    "anchors = []\n",
    "IoUs = []\n",
    "for k in range(1, 16):   \n",
    "    start = time.time()\n",
    "    \n",
    "    ks.append(k)\n",
    "    \n",
    "    centers, clusters = find_anchor_boxes(kmeans_values, k)\n",
    "    anchors.append(centers)\n",
    "    average_IoU = get_average_IoU(kmeans_values, centers)\n",
    "    IoUs.append(average_IoU)\n",
    "    \n",
    "    end = time.time()\n",
    "    print(f'For {k} clusters: Average IoU: {average_IoU}, ran KMeans in: {(end - start):.2f}s')\n",
    "    \n",
    "plt.plot(ks, IoUs, marker='o')\n",
    "plt.xlabel('# of clusters')\n",
    "plt.ylabel('Average IoU')\n",
    "plt.show()"
   ]
  },
  {
   "cell_type": "code",
   "execution_count": 8,
   "metadata": {},
   "outputs": [
    {
     "name": "stdout",
     "output_type": "stream",
     "text": [
      "1\n",
      "[[3.9109038539073624, 5.0497244592197]]\n",
      "\n",
      "2\n",
      "[[1.6678269524872724, 2.7699283155704326], [7.145929311763909, 8.337707389612968]]\n",
      "\n",
      "3\n",
      "[[1.2721835071064291, 2.1051316862685314], [3.6827682837152405, 5.9644845569475375], [9.24469256121513, 9.360085847758503]]\n",
      "\n",
      "4\n",
      "[[1.0955005362957848, 1.85567691329724], [3.124482633475059, 4.35870705440147], [4.668559050552804, 8.409659593541031], [10.176966263881353, 9.400577118591759]]\n",
      "\n",
      "5\n",
      "[[1.0561660983443226, 1.6511904188497952], [2.4490013672877278, 4.139041510050218], [4.019226309147748, 8.464989027148398], [7.625899073003253, 5.13354454662471], [9.97520353149539, 10.436068143214323]]\n",
      "\n",
      "6\n",
      "[[0.9785378815394626, 1.4806217017287546], [2.142185368459553, 3.5448276744108576], [3.0279907241232844, 7.196482281902777], [5.894822837984133, 9.7804063760186], [6.883914766192142, 4.633656183135354], [10.882320992937736, 10.040692838520064]]\n",
      "\n",
      "7\n",
      "[[0.956341399414859, 1.3855074260593685], [1.7380621581798383, 3.4348565733598226], [2.782854144911616, 7.114941811460074], [4.5749039253716175, 3.8616863417955356], [5.528967966382463, 9.462924797790674], [9.343001798176005, 5.932143303863445], [10.720723315801553, 10.921446204389584]]\n",
      "\n",
      "8\n",
      "[[0.9032330325716771, 1.334761042510349], [1.4116491655437327, 3.6286537932213303], [2.6921531447127154, 7.106195431868473], [3.218404229388414, 2.699181922138355], [5.058103765007386, 4.9465222775882856], [5.570056580556329, 9.76124320375766], [9.740162589017096, 6.0828196299392685], [10.76924944273603, 10.999054096960503]]\n",
      "\n",
      "9\n",
      "[[0.8598202949493169, 1.3756994668780096], [1.417849691141065, 3.9448579992658717], [2.719188018645134, 7.795233353227544], [2.7703147508871795, 2.3940719530327828], [4.033250571067854, 4.813726570694011], [5.574019722560495, 9.539178074807225], [8.31693706398176, 4.570581938541946], [10.235708534033717, 7.618960995513362], [10.680874375246834, 11.511894315825165]]\n",
      "\n",
      "10\n",
      "[[0.8030048219661582, 1.3562378265722714], [1.36257962809528, 4.082907348695683], [2.366782158844687, 2.163148634598882], [2.7857971653211004, 7.923204106500831], [3.556497872994565, 4.206124354444179], [5.419644229919473, 6.4910301168987035], [5.958534001536327, 10.547444666801201], [8.548584191072226, 3.9951537044485868], [10.228581669276318, 7.563709857149865], [11.079975852596096, 11.503807348317194]]\n",
      "\n",
      "11\n",
      "[[0.8458155924028271, 1.1210445756768699], [1.246376966678041, 2.649144638760336], [1.8818356299472097, 4.867183899737452], [2.799368594218806, 8.01304066874507], [3.318856320403909, 2.713481377893955], [4.694553070020094, 5.286615511279414], [4.765335549088249, 9.688904018528625], [7.3608831011586915, 9.942685897424171], [8.803961867142542, 4.285697883675428], [10.722820275226129, 7.3856607980502025], [11.452351611444145, 11.535490000708133]]\n",
      "\n",
      "12\n",
      "[[0.8093552529915528, 1.102232724698463], [1.0710979938456926, 2.7700171929313684], [1.7961155384934373, 4.869412539344537], [2.6514659426441964, 2.2198118547179746], [2.8088736241001104, 7.812972260257147], [3.998676609278865, 4.249006084509857], [4.524757137528261, 10.034947662226731], [5.9321718449470096, 6.570344124244385], [7.530701023719148, 10.66482470570407], [8.897226468763769, 4.020236055354126], [10.771178426986852, 7.472711588149158], [11.652083135178492, 11.545131387232495]]\n",
      "\n",
      "13\n",
      "[[0.7390638164185525, 1.1978471117834162], [1.0759301569818562, 3.463670776507882], [2.0157880332861042, 1.9082596258167719], [2.3207500970650354, 4.328143568206424], [2.3658577364087274, 7.890405486508468], [4.163259907198607, 5.653906080774888], [4.391618482234639, 9.970472703587259], [4.426506678159434, 2.894108717297881], [6.537548775195925, 7.125562126846757], [7.547988244716299, 10.947172468342632], [8.977776354922803, 4.270672194187076], [10.923437470749356, 7.558992890940575], [11.66407113480174, 11.555107965776498]]\n",
      "\n",
      "14\n",
      "[[0.7772285296579129, 1.0108834411264969], [0.9433651763894528, 2.3878828989386167], [1.49006557945832, 4.154122818804796], [2.0959645124813004, 7.18389247817952], [2.369769368917528, 2.151667517087071], [3.3304203766555536, 4.655109158249606], [3.6644445385259536, 8.809441882614008], [5.321854616507709, 3.034179889865907], [5.675814273350292, 10.320157315030569], [5.975373608082091, 6.219361109928735], [8.191210652317999, 10.963062708162546], [10.113221854942806, 4.5195413168620835], [10.514925135998935, 7.765339446775902], [11.864272746456754, 11.566561069883663]]\n",
      "\n",
      "15\n",
      "[[0.746932221928178, 0.9731639245577677], [0.8883036231243207, 2.28177935211681], [1.3631106853445174, 4.0244634024872], [2.0424642806502114, 7.013136484870831], [2.193077887222559, 1.9827113597855062], [2.9518920977565615, 4.258102223002102], [3.513085269300965, 8.783994771836415], [4.938057331582223, 2.7928672766778546], [5.11875214534974, 5.679110370220155], [5.6317941123156725, 9.875810382806035], [8.049039313133523, 11.013548498988063], [9.19702769873773, 6.768188216732599], [9.772875458207038, 4.045781682292615], [11.521858651626207, 8.916456471036664], [11.76313335970433, 12.106205680067948]]\n",
      "\n"
     ]
    }
   ],
   "source": [
    "for i in range(len(anchors)):\n",
    "    print(ks[i])\n",
    "    print(anchors[i])\n",
    "    print()"
   ]
  },
  {
   "cell_type": "code",
   "execution_count": 11,
   "metadata": {},
   "outputs": [
    {
     "data": {
      "text/plain": [
       "'\\nfrom official darknet tiny-yolo-voc config\\nanchors= 1.08,1.19,  3.42,4.41,  6.63,11.38,  9.42,5.11,  16.62,10.52\\n\\nmy results:\\n    [[1.05, 1.65], [2.44, 4.13], [4.01, 8.46], [7.62, 5.13], [9.97, 10.43]]\\n\\n    \\nprint(anchors)\\nprint(get_average_IoU(annotations, anchors))\\n'"
      ]
     },
     "execution_count": 11,
     "metadata": {},
     "output_type": "execute_result"
    }
   ],
   "source": [
    "'''\n",
    "from official darknet tiny-yolo-voc config\n",
    "anchors= 1.08,1.19,  3.42,4.41,  6.63,11.38,  9.42,5.11,  16.62,10.52\n",
    "\n",
    "my results:\n",
    "    [[1.05, 1.65], [2.44, 4.13], [4.01, 8.46], [7.62, 5.13], [9.97, 10.43]]\n",
    "\n",
    "    \n",
    "print(anchors)\n",
    "print(get_average_IoU(annotations, anchors))\n",
    "'''"
   ]
  },
  {
   "cell_type": "code",
   "execution_count": null,
   "metadata": {},
   "outputs": [],
   "source": []
  }
 ],
 "metadata": {
  "kernelspec": {
   "display_name": "Python 3",
   "language": "python",
   "name": "python3"
  },
  "language_info": {
   "codemirror_mode": {
    "name": "ipython",
    "version": 3
   },
   "file_extension": ".py",
   "mimetype": "text/x-python",
   "name": "python",
   "nbconvert_exporter": "python",
   "pygments_lexer": "ipython3",
   "version": "3.7.3"
  }
 },
 "nbformat": 4,
 "nbformat_minor": 1
}
