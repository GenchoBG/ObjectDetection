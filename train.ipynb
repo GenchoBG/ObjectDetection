{
 "cells": [
  {
   "cell_type": "code",
   "execution_count": 1,
   "metadata": {},
   "outputs": [
    {
     "name": "stderr",
     "output_type": "stream",
     "text": [
      "Using TensorFlow backend.\n"
     ]
    }
   ],
   "source": [
    "from yolo import YOLO\n",
    "from utils import get_annotations_images, LabelEncoder, read_labels\n",
    "from config import Config\n",
    "from networkfactory import NetworkFactory\n",
    "from batchgenerators import batch_generator, batch_generator_inmemory\n",
    "from filter_dataset import filter_datasaet"
   ]
  },
  {
   "cell_type": "code",
   "execution_count": 2,
   "metadata": {},
   "outputs": [
    {
     "name": "stdout",
     "output_type": "stream",
     "text": [
      "5011\n"
     ]
    }
   ],
   "source": [
    "annotation_folder = r'.\\annotations'\n",
    "images_folder = r'.\\images'\n",
    "\n",
    "annotations, images = get_annotations_images(annotation_folder, images_folder)\n",
    "print(len(annotations))"
   ]
  },
  {
   "cell_type": "code",
   "execution_count": 3,
   "metadata": {},
   "outputs": [
    {
     "name": "stdout",
     "output_type": "stream",
     "text": [
      "2724\n"
     ]
    }
   ],
   "source": [
    "images_dir = r'./images'\n",
    "annotations_dir = r'./annotations'\n",
    "image_sets_dir = r'./imagesets'\n",
    "\n",
    "wanted_sets = ['bicycle', 'bus', 'car', 'motorbike', 'person']\n",
    "\n",
    "annotations_sdc, images_sdc = filter_datasaet(images_dir, annotations_dir, image_sets_dir, wanted_sets)\n",
    "print(len(annotations_sdc))"
   ]
  },
  {
   "cell_type": "code",
   "execution_count": 14,
   "metadata": {
    "scrolled": true
   },
   "outputs": [
    {
     "name": "stderr",
     "output_type": "stream",
     "text": [
      "C:\\Users\\Gencho\\Anaconda3\\lib\\site-packages\\keras_applications\\mobilenet.py:207: UserWarning: `input_shape` is undefined or non-square, or `rows` is not in [128, 160, 192, 224]. Weights for input shape (224, 224) will be loaded as the default.\n",
      "  warnings.warn('`input_shape` is undefined or non-square, '\n"
     ]
    }
   ],
   "source": [
    "labels_dir = \"./labels.txt\"\n",
    "cfg_path = r\"./cfg/mobilenetyolov2.cfg\"\n",
    "weights = r\"./weights/mobilenetyolov2_take2\"\n",
    "weights = r\"./weights/mobilenetyolov2-checkpoint-50\"\n",
    "\n",
    "\n",
    "cfg = Config(cfg_path)\n",
    "encoder = LabelEncoder(read_labels(labels_dir)[0])\n",
    "networkfactory = NetworkFactory()\n",
    "\n",
    "#yolo = YOLO(cfg, encoder, networkfactory)\n",
    "yolo = YOLO(cfg, encoder, networkfactory, weights)"
   ]
  },
  {
   "cell_type": "code",
   "execution_count": null,
   "metadata": {},
   "outputs": [
    {
     "name": "stdout",
     "output_type": "stream",
     "text": [
      "Epoch 1/250\n"
     ]
    }
   ],
   "source": [
    "epochs = 250\n",
    "\n",
    "from sklearn.model_selection import train_test_split\n",
    "from keras.callbacks import ModelCheckpoint, EarlyStopping\n",
    "\n",
    "def train(self, generator, annotations, images, epochs, checkpoint_period=None, early_stopping=False):\n",
    "    # gen = tf.keras.preprocessing.image.ImageDataGenerator()\n",
    "\n",
    "    annotations_train, annotations_val, images_train, images_val = train_test_split(annotations, images,\n",
    "                                                                                    test_size=0.1)\n",
    "\n",
    "    gen_train = generator(annotations_train, images_train, self.cfg,\n",
    "                          self.networkfactory.get_normalizer(self.cfg),\n",
    "                          self.encode_y_true_from_annotation)\n",
    "\n",
    "    gen_val = generator(annotations_val, images_val, self.cfg,\n",
    "                        self.networkfactory.get_normalizer(self.cfg),\n",
    "                        self.encode_y_true_from_annotation)\n",
    "\n",
    "    callbacks = []\n",
    "\n",
    "    if checkpoint_period:\n",
    "        modelname = self.cfg.get(\"net\")\n",
    "        filepath = \"./weights/\" + modelname + \"yolov2-checkpoint-{epoch:02d}\"\n",
    "\n",
    "        checkpoint = ModelCheckpoint(filepath=filepath, period=checkpoint_period)\n",
    "        callbacks.append(checkpoint)\n",
    "\n",
    "    if early_stopping:\n",
    "        es = EarlyStopping(monitor='val_loss', mode='min', verbose=1, patience=10)\n",
    "        #callbacks.append(es)\n",
    "\n",
    "    h = self.model.fit_generator(gen_train, steps_per_epoch=len(images_train) // self.cfg.get('batch_size'),\n",
    "                                 ##validation_data=gen_val,\n",
    "                                 ##validation_steps=len(images_val) // self.cfg.get('batch_size'),\n",
    "                                 epochs=epochs,\n",
    "                                 callbacks=callbacks)\n",
    "\n",
    "    # TODO: Give a summary\n",
    "\n",
    "train(yolo, batch_generator_inmemory, annotations[:300], images[:300] , epochs, 5, True)\n",
    "#yolo.train(batch_generator, annotations, images, epochs, 5, True)"
   ]
  },
  {
   "cell_type": "code",
   "execution_count": 5,
   "metadata": {
    "deletable": false,
    "editable": false,
    "run_control": {
     "frozen": true
    }
   },
   "outputs": [],
   "source": [
    "yolo.save(weights)"
   ]
  },
  {
   "cell_type": "code",
   "execution_count": null,
   "metadata": {},
   "outputs": [],
   "source": []
  }
 ],
 "metadata": {
  "kernelspec": {
   "display_name": "Python 3",
   "language": "python",
   "name": "python3"
  },
  "language_info": {
   "codemirror_mode": {
    "name": "ipython",
    "version": 3
   },
   "file_extension": ".py",
   "mimetype": "text/x-python",
   "name": "python",
   "nbconvert_exporter": "python",
   "pygments_lexer": "ipython3",
   "version": "3.7.3"
  }
 },
 "nbformat": 4,
 "nbformat_minor": 2
}
