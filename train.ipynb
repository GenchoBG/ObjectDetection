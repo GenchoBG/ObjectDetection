{
 "cells": [
  {
   "cell_type": "code",
   "execution_count": 1,
   "metadata": {},
   "outputs": [
    {
     "name": "stderr",
     "output_type": "stream",
     "text": [
      "Using TensorFlow backend.\n"
     ]
    }
   ],
   "source": [
    "from yolo import YOLO\n",
    "from utils import get_annotations_images, LabelEncoder, read_labels\n",
    "from config import Config\n",
    "from networkfactory import NetworkFactory\n",
    "from batchgenerators import batch_generator, batch_generator_inmemory\n",
    "from filter_dataset import filter_datasaet"
   ]
  },
  {
   "cell_type": "code",
   "execution_count": 2,
   "metadata": {},
   "outputs": [
    {
     "name": "stdout",
     "output_type": "stream",
     "text": [
      "5011\n"
     ]
    }
   ],
   "source": [
    "annotation_folder = r'.\\annotations'\n",
    "images_folder = r'.\\images'\n",
    "\n",
    "annotations, images = get_annotations_images(annotation_folder, images_folder)\n",
    "print(len(annotations))"
   ]
  },
  {
   "cell_type": "code",
   "execution_count": 3,
   "metadata": {},
   "outputs": [
    {
     "name": "stdout",
     "output_type": "stream",
     "text": [
      "2724\n"
     ]
    }
   ],
   "source": [
    "images_dir = r'./images'\n",
    "annotations_dir = r'./annotations'\n",
    "image_sets_dir = r'./imagesets'\n",
    "\n",
    "wanted_sets = ['bicycle', 'bus', 'car', 'motorbike', 'person']\n",
    "\n",
    "annotations_sdc, images_sdc = filter_datasaet(images_dir, annotations_dir, image_sets_dir, wanted_sets)\n",
    "print(len(annotations_sdc))"
   ]
  },
  {
   "cell_type": "code",
   "execution_count": 4,
   "metadata": {
    "scrolled": true
   },
   "outputs": [
    {
     "name": "stderr",
     "output_type": "stream",
     "text": [
      "C:\\Users\\Gencho\\Anaconda3\\lib\\site-packages\\keras_applications\\mobilenet.py:207: UserWarning: `input_shape` is undefined or non-square, or `rows` is not in [128, 160, 192, 224]. Weights for input shape (224, 224) will be loaded as the default.\n",
      "  warnings.warn('`input_shape` is undefined or non-square, '\n",
      "WARNING: Logging before flag parsing goes to stderr.\n",
      "W0321 20:48:28.986797 10476 deprecation.py:506] From C:\\Users\\Gencho\\Anaconda3\\lib\\site-packages\\tensorflow\\python\\ops\\init_ops.py:1251: calling VarianceScaling.__init__ (from tensorflow.python.ops.init_ops) with dtype is deprecated and will be removed in a future version.\n",
      "Instructions for updating:\n",
      "Call initializer instance with the dtype argument instead of passing it to the constructor\n",
      "W0321 20:49:02.360071 10476 deprecation.py:323] From C:\\Users\\Gencho\\Desktop\\ObjectDetection\\yolo.py:111: to_float (from tensorflow.python.ops.math_ops) is deprecated and will be removed in a future version.\n",
      "Instructions for updating:\n",
      "Use `tf.cast` instead.\n",
      "W0321 20:49:02.426069 10476 deprecation.py:323] From C:\\Users\\Gencho\\Desktop\\ObjectDetection\\yolo.py:171: add_dispatch_support.<locals>.wrapper (from tensorflow.python.ops.array_ops) is deprecated and will be removed in a future version.\n",
      "Instructions for updating:\n",
      "Use tf.where in 2.0, which has the same broadcast rule as np.where\n"
     ]
    }
   ],
   "source": [
    "labels_dir = \"./labels.txt\"\n",
    "cfg_path = r\"./cfg/mobilenetyolov2.cfg\"\n",
    "weights = r\"./weights/mobilenetyolov2_take2\"\n",
    "#weights = r\"./weights/mobilenetyolov2-checkpoint-50\"\n",
    "\n",
    "\n",
    "cfg = Config(cfg_path)\n",
    "encoder = LabelEncoder(read_labels(labels_dir)[0])\n",
    "networkfactory = NetworkFactory()\n",
    "\n",
    "#yolo = YOLO(cfg, encoder, networkfactory)\n",
    "yolo = YOLO(cfg, encoder, networkfactory, weights)"
   ]
  },
  {
   "cell_type": "code",
   "execution_count": null,
   "metadata": {
    "scrolled": false
   },
   "outputs": [],
   "source": [
    "epochs = 250\n",
    "\n",
    "#train(yolo, batch_generator_inmemory, annotations[:300], images[:300] , epochs, checkpoint_period=5, early_stopping=True)\n",
    "yolo.train(batch_generator, annotations, images, epochs, checkpoint_period=5, early_stopping=True)"
   ]
  },
  {
   "cell_type": "code",
   "execution_count": null,
   "metadata": {
    "deletable": false,
    "editable": false,
    "run_control": {
     "frozen": true
    }
   },
   "outputs": [],
   "source": [
    "yolo.save(weights)"
   ]
  },
  {
   "cell_type": "code",
   "execution_count": null,
   "metadata": {},
   "outputs": [],
   "source": []
  }
 ],
 "metadata": {
  "kernelspec": {
   "display_name": "Python 3",
   "language": "python",
   "name": "python3"
  },
  "language_info": {
   "codemirror_mode": {
    "name": "ipython",
    "version": 3
   },
   "file_extension": ".py",
   "mimetype": "text/x-python",
   "name": "python",
   "nbconvert_exporter": "python",
   "pygments_lexer": "ipython3",
   "version": "3.7.3"
  }
 },
 "nbformat": 4,
 "nbformat_minor": 2
}
