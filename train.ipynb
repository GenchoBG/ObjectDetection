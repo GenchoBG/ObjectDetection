{
 "cells": [
  {
   "cell_type": "code",
   "execution_count": null,
   "metadata": {},
   "outputs": [],
   "source": [
    "from yolo import YOLO\n",
    "from utils import get_annotations_images, LabelEncoder, read_labels\n",
    "from config import Config\n",
    "from networkfactory import NetworkFactory\n",
    "from batchgenerators import batch_generator, batch_generator_inmemory\n",
    "from filter_dataset import filter_datasaet"
   ]
  },
  {
   "cell_type": "code",
   "execution_count": null,
   "metadata": {},
   "outputs": [],
   "source": [
    "annotation_folder = r'.\\annotations'\n",
    "images_folder = r'.\\images'\n",
    "\n",
    "annotations, images = get_annotations_images(annotation_folder, images_folder)\n",
    "print(len(annotations))"
   ]
  },
  {
   "cell_type": "code",
   "execution_count": null,
   "metadata": {},
   "outputs": [],
   "source": [
    "images_dir = r'./images'\n",
    "annotations_dir = r'./annotations'\n",
    "image_sets_dir = r'./imagesets'\n",
    "\n",
    "wanted_sets = ['bicycle', 'bus', 'car', 'motorbike', 'person']\n",
    "\n",
    "annotations_sdc, images_sdc = filter_datasaet(images_dir, annotations_dir, image_sets_dir, wanted_sets)\n",
    "print(len(annotations_sdc))"
   ]
  },
  {
   "cell_type": "code",
   "execution_count": null,
   "metadata": {
    "scrolled": true
   },
   "outputs": [],
   "source": [
    "labels_dir = \"./labels.txt\"\n",
    "cfg_path = r\"./cfg/mobilenetyolov2.cfg\"\n",
    "weights = r'./weights/mobilenetyolov2'\n",
    "\n",
    "cfg = Config(cfg_path)\n",
    "encoder = LabelEncoder(read_labels(labels_dir)[0])\n",
    "networkfactory = NetworkFactory()\n",
    "\n",
    "#yolo = YOLO(cfg, encoder, networkfactory)\n",
    "yolo = YOLO(cfg, encoder, networkfactory, weights)"
   ]
  },
  {
   "cell_type": "code",
   "execution_count": null,
   "metadata": {},
   "outputs": [],
   "source": [
    "images = images[:300] \n",
    "annotations = annotations[:300]"
   ]
  },
  {
   "cell_type": "code",
   "execution_count": null,
   "metadata": {
    "scrolled": false
   },
   "outputs": [],
   "source": [
    "epochs = 2000\n",
    "\n",
    "yolo.train(batch_generator_inmemory, annotations, images, epochs)"
   ]
  },
  {
   "cell_type": "code",
   "execution_count": null,
   "metadata": {},
   "outputs": [],
   "source": [
    "yolo.save(weights)"
   ]
  },
  {
   "cell_type": "code",
   "execution_count": null,
   "metadata": {},
   "outputs": [],
   "source": []
  }
 ],
 "metadata": {
  "kernelspec": {
   "display_name": "Python 3",
   "language": "python",
   "name": "python3"
  },
  "language_info": {
   "codemirror_mode": {
    "name": "ipython",
    "version": 3
   },
   "file_extension": ".py",
   "mimetype": "text/x-python",
   "name": "python",
   "nbconvert_exporter": "python",
   "pygments_lexer": "ipython3",
   "version": "3.7.3"
  }
 },
 "nbformat": 4,
 "nbformat_minor": 2
}
