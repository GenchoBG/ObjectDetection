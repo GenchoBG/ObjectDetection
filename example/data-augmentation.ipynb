{
 "cells": [
  {
   "cell_type": "code",
   "execution_count": 8,
   "metadata": {},
   "outputs": [],
   "source": [
    "from ObjectDetectionElsys.config import Config\n",
    "\n",
    "from ObjectDetectionElsys.augmentation import change_brightness_slightly, change_brightness_not_so_slightly, dropout, adjust_contrast, blur, grayscale, noise, sharpen \n",
    "from ObjectDetectionElsys.augmenter import augment_images"
   ]
  },
  {
   "cell_type": "code",
   "execution_count": 9,
   "metadata": {},
   "outputs": [],
   "source": [
    "cfg_path = './cfg/mobilenetyolov2.cfg'\n",
    "cfg = Config(cfg_path)\n",
    "\n",
    "\n",
    "images = './images/'\n",
    "annotations = './annotations/'\n",
    "\n",
    "augmenters = [blur, sharpen, noise, change_brightness_not_so_slightly, change_brightness_slightly, dropout]\n",
    "\n",
    "target = 5150\n",
    "max_augs = 3\n",
    "\n",
    "#dest_im = './images/'\n",
    "#dest_ann = './annotations/'"
   ]
  },
  {
   "cell_type": "code",
   "execution_count": 7,
   "metadata": {},
   "outputs": [],
   "source": [
    "augment_images(cfg, images, annotations, augmenters, target, max_augs)"
   ]
  },
  {
   "cell_type": "code",
   "execution_count": null,
   "metadata": {},
   "outputs": [],
   "source": []
  }
 ],
 "metadata": {
  "kernelspec": {
   "display_name": "Python 3",
   "language": "python",
   "name": "python3"
  },
  "language_info": {
   "codemirror_mode": {
    "name": "ipython",
    "version": 3
   },
   "file_extension": ".py",
   "mimetype": "text/x-python",
   "name": "python",
   "nbconvert_exporter": "python",
   "pygments_lexer": "ipython3",
   "version": "3.7.3"
  }
 },
 "nbformat": 4,
 "nbformat_minor": 2
}
