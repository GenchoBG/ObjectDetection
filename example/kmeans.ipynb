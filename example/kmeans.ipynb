{
 "cells": [
  {
   "cell_type": "code",
   "execution_count": 1,
   "metadata": {},
   "outputs": [],
   "source": [
    "import matplotlib.pyplot as plt\n",
    "import numpy as np\n",
    "import time\n",
    "from ObjectDetectionElsys.config import Config\n",
    "from ObjectDetectionElsys.kmeans import distance, find_anchor_boxes, get_average_IoU, get_kmeans_values_from_annotations, format_anchors"
   ]
  },
  {
   "cell_type": "code",
   "execution_count": 2,
   "metadata": {},
   "outputs": [],
   "source": [
    "cfg_path = r\".\\cfg\\mobilenetyolov2.cfg\"\n",
    "config = Config(cfg_path)\n",
    "\n",
    "grid_width = config.get('grid_width')\n",
    "grid_height = config.get('grid_height')\n",
    "\n",
    "annotations_path = r\".\\annotations\""
   ]
  },
  {
   "cell_type": "code",
   "execution_count": 3,
   "metadata": {
    "scrolled": true
   },
   "outputs": [
    {
     "name": "stdout",
     "output_type": "stream",
     "text": [
      "Found 5011 annotation files\n"
     ]
    }
   ],
   "source": [
    "kmeans_values = get_kmeans_values_from_annotations(annotations_path, grid_width, grid_height)"
   ]
  },
  {
   "cell_type": "code",
   "execution_count": 4,
   "metadata": {},
   "outputs": [
    {
     "name": "stdout",
     "output_type": "stream",
     "text": [
      "Ran KMeans for 5 clusters in 13.45s\n",
      "Calculated average IoU in 0.52s\n",
      "Average IoU: 0.691346300703301\n",
      "[1.29, 2.14, 2.77, 4.77, 4.39, 9.02, 7.75, 5.29, 10.16, 10.48]\n"
     ]
    }
   ],
   "source": [
    "start = time.time()\n",
    "centers, clusters = find_anchor_boxes(kmeans_values, 5)\n",
    "end = time.time()\n",
    "print(f'Ran KMeans for 5 clusters in {(end - start):.2f}s')\n",
    "\n",
    "start = time.time()\n",
    "average_IoU = get_average_IoU(kmeans_values, centers)\n",
    "end = time.time()\n",
    "print(f'Calculated average IoU in {(end - start):.2f}s')\n",
    "\n",
    "print(f'Average IoU: {average_IoU}')\n",
    "print(format_anchors(centers))"
   ]
  },
  {
   "cell_type": "code",
   "execution_count": 5,
   "metadata": {},
   "outputs": [
    {
     "name": "stdout",
     "output_type": "stream",
     "text": [
      "For 1 clusters: Average IoU: 0.40704424692329755, ran KMeans in: 0.51s\n",
      "For 2 clusters: Average IoU: 0.5674078742077427, ran KMeans in: 3.79s\n",
      "For 3 clusters: Average IoU: 0.6363616385661186, ran KMeans in: 5.51s\n",
      "For 4 clusters: Average IoU: 0.6661508980416211, ran KMeans in: 26.63s\n",
      "For 5 clusters: Average IoU: 0.6917087489011795, ran KMeans in: 17.79s\n",
      "For 6 clusters: Average IoU: 0.7083872016134917, ran KMeans in: 40.62s\n",
      "For 7 clusters: Average IoU: 0.7280686835807437, ran KMeans in: 57.22s\n",
      "For 8 clusters: Average IoU: 0.7405129909331917, ran KMeans in: 45.60s\n",
      "For 9 clusters: Average IoU: 0.7538083574506018, ran KMeans in: 62.52s\n",
      "For 10 clusters: Average IoU: 0.7610385497121374, ran KMeans in: 61.48s\n",
      "For 11 clusters: Average IoU: 0.7691313205625482, ran KMeans in: 57.83s\n",
      "For 12 clusters: Average IoU: 0.7771098458019787, ran KMeans in: 68.26s\n",
      "For 13 clusters: Average IoU: 0.7834773911048138, ran KMeans in: 84.20s\n",
      "For 14 clusters: Average IoU: 0.7917171160928774, ran KMeans in: 96.49s\n",
      "For 15 clusters: Average IoU: 0.7964925679839426, ran KMeans in: 165.13s\n"
     ]
    },
    {
     "data": {
      "image/png": "[encoded data removed]",
      "text/plain": [
       "<Figure size 432x288 with 1 Axes>"
      ]
     },
     "metadata": {
      "needs_background": "light"
     },
     "output_type": "display_data"
    }
   ],
   "source": [
    "ks = []\n",
    "anchors = []\n",
    "IoUs = []\n",
    "for k in range(1, 16):   \n",
    "    start = time.time()\n",
    "    \n",
    "    ks.append(k)\n",
    "    \n",
    "    centers, clusters = find_anchor_boxes(kmeans_values, k)\n",
    "    anchors.append(centers)\n",
    "    average_IoU = get_average_IoU(kmeans_values, centers)\n",
    "    IoUs.append(average_IoU)\n",
    "    \n",
    "    end = time.time()\n",
    "    print(f'For {k} clusters: Average IoU: {average_IoU}, ran KMeans in: {(end - start):.2f}s')\n",
    "    \n",
    "plt.plot(ks, IoUs, marker='o')\n",
    "plt.xlabel('# of clusters')\n",
    "plt.ylabel('Average IoU')\n",
    "plt.show()"
   ]
  },
  {
   "cell_type": "code",
   "execution_count": 6,
   "metadata": {},
   "outputs": [
    {
     "name": "stdout",
     "output_type": "stream",
     "text": [
      "1\n",
      "[4.36, 5.66]\n",
      "\n",
      "2\n",
      "[1.97, 3.35, 7.47, 8.65]\n",
      "\n",
      "3\n",
      "[1.53, 2.6, 4.04, 6.49, 9.45, 9.54]\n",
      "\n",
      "4\n",
      "[1.31, 2.45, 3.74, 4.57, 4.51, 8.77, 10.08, 9.53]\n",
      "\n",
      "5\n",
      "[1.3, 2.12, 2.71, 4.77, 4.39, 9.0, 7.61, 5.21, 10.15, 10.45]\n",
      "\n",
      "6\n",
      "[1.25, 2.08, 2.15, 5.38, 4.43, 3.78, 4.59, 9.0, 8.94, 6.12, 10.22, 10.92]\n",
      "\n",
      "7\n",
      "[1.21, 1.8, 1.88, 4.15, 3.16, 7.73, 4.83, 4.02, 5.96, 9.8, 9.43, 6.2, 10.88, 11.01]\n",
      "\n",
      "8\n",
      "[1.13, 1.79, 1.7, 4.33, 3.08, 7.81, 3.78, 3.02, 5.45, 5.39, 6.09, 10.15, 9.95, 6.45, 11.0, 11.14]\n",
      "\n",
      "9\n",
      "[1.13, 1.58, 1.48, 3.5, 2.37, 5.9, 3.61, 9.05, 3.99, 3.08, 5.52, 5.66, 6.76, 10.32, 10.12, 6.32, 11.29, 11.09]\n",
      "\n",
      "10\n",
      "[1.02, 1.68, 1.4, 4.3, 2.76, 2.57, 3.07, 9.15, 3.09, 5.28, 5.26, 7.11, 6.46, 3.85, 6.67, 10.72, 10.11, 6.79, 11.31, 11.2]\n",
      "\n",
      "11\n",
      "[1.09, 1.48, 1.27, 3.31, 2.11, 5.45, 3.1, 8.67, 3.33, 2.82, 4.63, 5.3, 5.42, 9.36, 7.83, 11.03, 8.52, 4.54, 10.22, 7.43, 11.69, 11.38]\n",
      "\n",
      "12\n",
      "[0.97, 1.63, 1.35, 3.93, 2.13, 7.41, 2.51, 2.39, 3.22, 5.03, 3.92, 9.36, 5.29, 3.43, 5.92, 6.74, 6.96, 10.85, 9.75, 4.8, 10.5, 8.08, 11.43, 11.7]\n",
      "\n",
      "13\n",
      "[0.96, 1.54, 1.27, 3.66, 1.99, 6.52, 2.49, 2.37, 3.34, 4.73, 3.42, 8.72, 5.3, 10.51, 5.47, 3.32, 5.91, 6.62, 7.96, 10.66, 9.69, 4.8, 10.84, 7.86, 11.68, 11.69]\n",
      "\n",
      "14\n",
      "[0.93, 1.47, 1.19, 3.42, 1.84, 6.03, 2.44, 2.1, 2.85, 4.11, 2.93, 8.93, 4.2, 6.05, 5.02, 10.06, 5.6, 3.39, 6.91, 6.87, 7.79, 11.08, 10.29, 4.88, 10.89, 8.22, 11.7, 11.78]\n",
      "\n",
      "15\n",
      "[0.9, 1.46, 1.17, 3.39, 1.81, 5.98, 2.3, 2.0, 2.75, 3.95, 2.88, 8.77, 4.01, 5.88, 4.59, 10.85, 5.45, 3.24, 5.77, 8.2, 7.17, 5.75, 7.71, 11.08, 10.62, 8.11, 11.08, 4.81, 11.68, 11.69]\n",
      "\n"
     ]
    }
   ],
   "source": [
    "for i in range(len(anchors)):\n",
    "    print(ks[i])\n",
    "    print(format_anchors(anchors[i]))\n",
    "    print()"
   ]
  },
  {
   "cell_type": "code",
   "execution_count": null,
   "metadata": {},
   "outputs": [],
   "source": []
  }
 ],
 "metadata": {
  "kernelspec": {
   "display_name": "Python 3",
   "language": "python",
   "name": "python3"
  },
  "language_info": {
   "codemirror_mode": {
    "name": "ipython",
    "version": 3
   },
   "file_extension": ".py",
   "mimetype": "text/x-python",
   "name": "python",
   "nbconvert_exporter": "python",
   "pygments_lexer": "ipython3",
   "version": "3.7.3"
  }
 },
 "nbformat": 4,
 "nbformat_minor": 1
}
